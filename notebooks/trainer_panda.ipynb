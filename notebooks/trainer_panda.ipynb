{
 "cells": [
  {
   "cell_type": "markdown",
   "metadata": {},
   "source": [
    "# NewtonianVAE: PandaRobot"
   ]
  },
  {
   "cell_type": "code",
   "execution_count": 1,
   "metadata": {},
   "outputs": [],
   "source": [
    "%matplotlib inline\n",
    "%reload_ext autoreload\n",
    "%autoreload 2"
   ]
  },
  {
   "cell_type": "code",
   "execution_count": 2,
   "metadata": {},
   "outputs": [
    {
     "name": "stdout",
     "output_type": "stream",
     "text": [
      "cpu\n"
     ]
    }
   ],
   "source": [
    "# Import dependencies\n",
    "import sys\n",
    "import os\n",
    "\n",
    "# Add root file system to path\n",
    "sys.path.insert(0, os.path.abspath(os.path.join(os.path.dirname(__file__), \"../\")))\n",
    "\n",
    "import matplotlib.pyplot as plt\n",
    "from matplotlib import rc\n",
    "import numpy as np\n",
    "import torch\n",
    "\n",
    "# Import project lib\n",
    "from lib.training import Experiment\n",
    "from lib.utils import load_encoder, load_pytorch_datasets, tc2np\n",
    "\n",
    "# Notebook stuff\n",
    "from ipywidgets import interact\n",
    "\n",
    "# Enable TeX\n",
    "rc(\"font\", **{\"size\": 14, \"family\": \"serif\", \"serif\": [\"Computer Modern\"]})\n",
    "rc(\"text\", usetex=True)\n",
    "\n",
    "# Set the torch device\n",
    "device = torch.device(\"cuda:0\" if torch.cuda.is_available() else \"cpu\")\n",
    "print(device)\n"
   ]
  },
  {
   "cell_type": "markdown",
   "metadata": {},
   "source": [
    "#### Set up the NewtonianVAE model experiment\n"
   ]
  },
  {
   "cell_type": "code",
   "execution_count": 10,
   "metadata": {},
   "outputs": [],
   "source": [
    "# Specify the arguments of the experiment\n",
    "model_name = \"NewtonianVAE\"\n",
    "experiment_name = \"Panda\"\n",
    "dataset = \"panda_rand_10eps_100steps_.npz\"\n",
    "\n",
    "# Specify the model arguments\n",
    "experiment_args = {\n",
    "    \"experiment\": model_name + \"-\" + experiment_name,\n",
    "    \"embedder\": model_name,\n",
    "    \"input_shape\": [3, 64, 64],\n",
    "    \"agent\": \"VAEAgent\",\n",
    "    \"state_dim\": 2,\n",
    "    \"action_dim\": 2,\n",
    "    \"steps\": 2,\n",
    "    \"divider\": 2,\n",
    "    \"kl_reg\": 1,  #'0.001:1.0:30:60',\n",
    "    \"epochs\": 300,\n",
    "    \"batch_size\": 1,\n",
    "    \"lr\": 3e-4,\n",
    "    \"dataset\": dataset,\n",
    "    \"dt\": 0.01,\n",
    "    \"rank\": \"diag\",\n",
    "}\n"
   ]
  },
  {
   "cell_type": "markdown",
   "metadata": {},
   "source": [
    "#### Train the NewtonianVAE model\n"
   ]
  },
  {
   "cell_type": "code",
   "execution_count": 11,
   "metadata": {},
   "outputs": [
    {
     "name": "stdout",
     "output_type": "stream",
     "text": [
      "\n",
      "Model Description\n",
      " VAEAgent(\n",
      "  (embedder): NewtonianVAE(\n",
      "    (_encoder): Sequential(\n",
      "      (0): HaConvNet(\n",
      "        (seq): Sequential(\n",
      "          (0): Conv2d(5, 16, kernel_size=(4, 4), stride=(2, 2))\n",
      "          (1): ReLU()\n",
      "          (2): Conv2d(16, 32, kernel_size=(4, 4), stride=(2, 2))\n",
      "          (3): ReLU()\n",
      "          (4): Conv2d(32, 64, kernel_size=(4, 4), stride=(2, 2))\n",
      "          (5): ReLU()\n",
      "          (6): Conv2d(64, 128, kernel_size=(4, 4), stride=(2, 2))\n",
      "          (7): ReLU()\n",
      "          (8): Flatten(start_dim=1, end_dim=-1)\n",
      "        )\n",
      "      )\n",
      "      (1): Linear(in_features=512, out_features=4, bias=True)\n",
      "    )\n",
      "    (_decoder): HaDeconvNet(\n",
      "      (linear): Sequential(\n",
      "        (0): Linear(in_features=2, out_features=512, bias=True)\n",
      "      )\n",
      "      (deconv_seq): Sequential(\n",
      "        (0): ConvTranspose2d(512, 64, kernel_size=(5, 5), stride=(2, 2))\n",
      "        (1): ReLU()\n",
      "        (2): ConvTranspose2d(64, 32, kernel_size=(5, 5), stride=(2, 2))\n",
      "        (3): ReLU()\n",
      "        (4): ConvTranspose2d(32, 16, kernel_size=(6, 6), stride=(2, 2))\n",
      "        (5): ReLU()\n",
      "        (6): ConvTranspose2d(16, 3, kernel_size=(6, 6), stride=(2, 2))\n",
      "      )\n",
      "    )\n",
      "    (_transition_matrices): MLP(\n",
      "      (seq): Sequential(\n",
      "        (0): Linear(in_features=4, out_features=16, bias=True)\n",
      "        (1): ReLU()\n",
      "        (2): LazyBatchNorm1d(0, eps=1e-05, momentum=0.1, affine=True, track_running_stats=True)\n",
      "        (3): Linear(in_features=16, out_features=16, bias=True)\n",
      "        (4): ReLU()\n",
      "        (5): LazyBatchNorm1d(0, eps=1e-05, momentum=0.1, affine=True, track_running_stats=True)\n",
      "        (6): Linear(in_features=16, out_features=12, bias=True)\n",
      "        (7): Identity()\n",
      "      )\n",
      "    )\n",
      "  )\n",
      ") \n",
      "\n"
     ]
    }
   ],
   "source": [
    "# Create an instance for this experiment\n",
    "experiment = Experiment(experiment_args, train=True)\n"
   ]
  },
  {
   "cell_type": "code",
   "execution_count": 12,
   "metadata": {},
   "outputs": [
    {
     "name": "stdout",
     "output_type": "stream",
     "text": [
      "Epoch 000\tRec: 1180.1482\tKL: 1043.312543\t NELBO: 2223.4607\n",
      "Epoch 010\tRec: 52.2268\tKL: 2.769528\t NELBO: 54.996477842\n",
      "Epoch 020\tRec: 29.8595\tKL: 2.672044\t NELBO: 32.53154\n",
      "Epoch 030:\tBatch 0000/0010\tRec: 27.7044\tKL: 2.535814\r"
     ]
    },
    {
     "ename": "KeyboardInterrupt",
     "evalue": "",
     "output_type": "error",
     "traceback": [
      "\u001b[0;31m---------------------------------------------------------------------------\u001b[0m",
      "\u001b[0;31mKeyboardInterrupt\u001b[0m                         Traceback (most recent call last)",
      "\u001b[1;32m/home/thomas/Documents/nvae-project/trainer_panda.ipynb Cell 8\u001b[0m in \u001b[0;36m<cell line: 2>\u001b[0;34m()\u001b[0m\n\u001b[1;32m      <a href='vscode-notebook-cell:/home/thomas/Documents/nvae-project/trainer_panda.ipynb#X10sZmlsZQ%3D%3D?line=0'>1</a>\u001b[0m \u001b[39m# Train the model\u001b[39;00m\n\u001b[0;32m----> <a href='vscode-notebook-cell:/home/thomas/Documents/nvae-project/trainer_panda.ipynb#X10sZmlsZQ%3D%3D?line=1'>2</a>\u001b[0m experiment\u001b[39m.\u001b[39;49mtrain()\n",
      "File \u001b[0;32m~/Documents/nvae-project/lib/training.py:140\u001b[0m, in \u001b[0;36mExperiment.train\u001b[0;34m(self)\u001b[0m\n\u001b[1;32m    138\u001b[0m \u001b[39m# Backward on the computational graph to find the gradients\u001b[39;00m\n\u001b[1;32m    139\u001b[0m \u001b[39mself\u001b[39m\u001b[39m.\u001b[39moptimiser\u001b[39m.\u001b[39mzero_grad()\n\u001b[0;32m--> 140\u001b[0m loss\u001b[39m.\u001b[39;49mbackward()\n\u001b[1;32m    142\u001b[0m \u001b[39m# Clip the gradients\u001b[39;00m\n\u001b[1;32m    143\u001b[0m torch\u001b[39m.\u001b[39mnn\u001b[39m.\u001b[39mutils\u001b[39m.\u001b[39mclip_grad_norm_(\u001b[39mself\u001b[39m\u001b[39m.\u001b[39mmodel\u001b[39m.\u001b[39mparameters(), \u001b[39m1000.0\u001b[39m)\n",
      "File \u001b[0;32m~/.local/lib/python3.10/site-packages/torch/_tensor.py:396\u001b[0m, in \u001b[0;36mTensor.backward\u001b[0;34m(self, gradient, retain_graph, create_graph, inputs)\u001b[0m\n\u001b[1;32m    387\u001b[0m \u001b[39mif\u001b[39;00m has_torch_function_unary(\u001b[39mself\u001b[39m):\n\u001b[1;32m    388\u001b[0m     \u001b[39mreturn\u001b[39;00m handle_torch_function(\n\u001b[1;32m    389\u001b[0m         Tensor\u001b[39m.\u001b[39mbackward,\n\u001b[1;32m    390\u001b[0m         (\u001b[39mself\u001b[39m,),\n\u001b[0;32m   (...)\u001b[0m\n\u001b[1;32m    394\u001b[0m         create_graph\u001b[39m=\u001b[39mcreate_graph,\n\u001b[1;32m    395\u001b[0m         inputs\u001b[39m=\u001b[39minputs)\n\u001b[0;32m--> 396\u001b[0m torch\u001b[39m.\u001b[39;49mautograd\u001b[39m.\u001b[39;49mbackward(\u001b[39mself\u001b[39;49m, gradient, retain_graph, create_graph, inputs\u001b[39m=\u001b[39;49minputs)\n",
      "File \u001b[0;32m~/.local/lib/python3.10/site-packages/torch/autograd/__init__.py:173\u001b[0m, in \u001b[0;36mbackward\u001b[0;34m(tensors, grad_tensors, retain_graph, create_graph, grad_variables, inputs)\u001b[0m\n\u001b[1;32m    168\u001b[0m     retain_graph \u001b[39m=\u001b[39m create_graph\n\u001b[1;32m    170\u001b[0m \u001b[39m# The reason we repeat same the comment below is that\u001b[39;00m\n\u001b[1;32m    171\u001b[0m \u001b[39m# some Python versions print out the first line of a multi-line function\u001b[39;00m\n\u001b[1;32m    172\u001b[0m \u001b[39m# calls in the traceback and some print out the last line\u001b[39;00m\n\u001b[0;32m--> 173\u001b[0m Variable\u001b[39m.\u001b[39;49m_execution_engine\u001b[39m.\u001b[39;49mrun_backward(  \u001b[39m# Calls into the C++ engine to run the backward pass\u001b[39;49;00m\n\u001b[1;32m    174\u001b[0m     tensors, grad_tensors_, retain_graph, create_graph, inputs,\n\u001b[1;32m    175\u001b[0m     allow_unreachable\u001b[39m=\u001b[39;49m\u001b[39mTrue\u001b[39;49;00m, accumulate_grad\u001b[39m=\u001b[39;49m\u001b[39mTrue\u001b[39;49;00m)\n",
      "\u001b[0;31mKeyboardInterrupt\u001b[0m: "
     ]
    }
   ],
   "source": [
    "# Train the model\n",
    "experiment.train()\n"
   ]
  },
  {
   "cell_type": "markdown",
   "metadata": {},
   "source": [
    "#### Load the saved model"
   ]
  },
  {
   "cell_type": "code",
   "execution_count": null,
   "metadata": {},
   "outputs": [],
   "source": [
    "# Load the trained model parameters\n",
    "experiment.load_model()\n"
   ]
  },
  {
   "cell_type": "markdown",
   "metadata": {},
   "source": [
    "#### Visualise the latent space"
   ]
  },
  {
   "cell_type": "code",
   "execution_count": 13,
   "metadata": {},
   "outputs": [
    {
     "data": {
      "image/png": "[encoded data removed]",
      "text/plain": [
       "<Figure size 432x288 with 1 Axes>"
      ]
     },
     "metadata": {
      "needs_background": "light"
     },
     "output_type": "display_data"
    }
   ],
   "source": [
    "# Visualise the latent space\n",
    "experiment.visualiseLatentSpace()\n"
   ]
  },
  {
   "cell_type": "markdown",
   "metadata": {},
   "source": [
    "#### Decode a point in the latent space for interpretability"
   ]
  },
  {
   "cell_type": "code",
   "execution_count": 18,
   "metadata": {},
   "outputs": [
    {
     "data": {
      "application/vnd.jupyter.widget-view+json": {
       "model_id": "9a5968768c964d4581f8a4cd252b1134",
       "version_major": 2,
       "version_minor": 0
      },
      "text/plain": [
       "interactive(children=(FloatSlider(value=-0.5, description='X1', max=1.0, min=-2.0), FloatSlider(value=0.0, des…"
      ]
     },
     "metadata": {},
     "output_type": "display_data"
    }
   ],
   "source": [
    "@interact(X1=(-2.0, 1.0), X2=(-1.0, 1.0))\n",
    "def robotDreams(\n",
    "    X1,\n",
    "    X2,\n",
    "):\n",
    "    x = [\n",
    "        X1,\n",
    "        X2,\n",
    "    ]\n",
    "    z = np.array([x])\n",
    "    decoded = experiment.model.embedder.decode(torch.Tensor(z).to(device))\n",
    "    im = tc2np(decoded)[0].swapaxes(1, 2).T\n",
    "    plt.imshow(im)\n"
   ]
  }
 ],
 "metadata": {
  "kernelspec": {
   "display_name": "Python 3 (ipykernel)",
   "language": "python",
   "name": "python3"
  },
  "language_info": {
   "codemirror_mode": {
    "name": "ipython",
    "version": 3
   },
   "file_extension": ".py",
   "mimetype": "text/x-python",
   "name": "python",
   "nbconvert_exporter": "python",
   "pygments_lexer": "ipython3",
   "version": "3.10.6"
  },
  "vscode": {
   "interpreter": {
    "hash": "916dbcbb3f70747c44a77c7bcd40155683ae19c65e1c03b4aa3499c5328201f1"
   }
  }
 },
 "nbformat": 4,
 "nbformat_minor": 4
}
